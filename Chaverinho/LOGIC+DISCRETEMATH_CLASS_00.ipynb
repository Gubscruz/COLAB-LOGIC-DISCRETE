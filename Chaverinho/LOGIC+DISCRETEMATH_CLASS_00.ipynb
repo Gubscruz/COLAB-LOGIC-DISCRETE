{
  "cells": [
    {
      "cell_type": "markdown",
      "metadata": {
        "colab_type": "text",
        "id": "view-in-github"
      },
      "source": [
        "<a href=\"https://colab.research.google.com/github/lucianosilva-github/logicanddiscretemathematics/blob/main/LOGIC%2BDISCRETEMATH_CLASS_00.ipynb\" target=\"_parent\"><img src=\"https://colab.research.google.com/assets/colab-badge.svg\" alt=\"Open In Colab\"/></a>"
      ]
    },
    {
      "cell_type": "markdown",
      "metadata": {
        "id": "33EEpDW7pOaO"
      },
      "source": [
        "<div class=\"alert alert-block alert-info\">\n",
        "\n",
        "#**CLASS 00 - MOTIVATION TO LOGIC AND DISCRETE MATHEMATICS**\n",
        "**Learning Objectives:**\n",
        "*   Building a simple program to solve a simple discrete problem\n",
        "*   Refining this simple program\n",
        "*   Proving the program correctness\n",
        "*   Analysis of program efficiency\n",
        "\n",
        "</div>\n"
      ]
    },
    {
      "cell_type": "markdown",
      "metadata": {
        "id": "iyV-u81mKdDo"
      },
      "source": [
        "### **EXERCISE 1.** \n",
        "\n",
        "We define the factorial n! of an natural number as:\n",
        "\n",
        "*   0! = 1\n",
        "*   n! = nx(n-1)x(n-2)x...x2x1, if n>0\n",
        "\n",
        "Build an iteractive function fact(n) in Python to compute n! and test it:\n",
        "\n"
      ]
    },
    {
      "cell_type": "code",
      "execution_count": 9,
      "metadata": {
        "id": "qqIisS25pMm5"
      },
      "outputs": [],
      "source": [
        "#TYPE YOUR SOLUTION HERE\n",
        "def fact(n):\n",
        "    if n == 0:\n",
        "        return 1\n",
        "    \n",
        "    res = 1\n",
        "\n",
        "    for i in range(n):\n",
        "        res *= n - i\n",
        "\n",
        "    return res"
      ]
    },
    {
      "cell_type": "markdown",
      "metadata": {
        "id": "IiH2Xppf6rbg"
      },
      "source": [
        "### **EXERCISE 2.** \n",
        "\n",
        "Rewrite the function fact(n) in a simpler way and test it:"
      ]
    },
    {
      "cell_type": "code",
      "execution_count": 14,
      "metadata": {
        "id": "Tc2TcLCK7BPw"
      },
      "outputs": [
        {
          "data": {
            "text/plain": [
              "2"
            ]
          },
          "execution_count": 14,
          "metadata": {},
          "output_type": "execute_result"
        }
      ],
      "source": [
        "#TYPE YOUR SOLUTION HERE\n",
        "def simple_fact(n):\n",
        "    return n * simple_fact(n - 1) if n - 1 > 0 else n\n",
        "\n",
        "simple_fact(4)"
      ]
    },
    {
      "cell_type": "markdown",
      "metadata": {
        "id": "sWzDnukBLtoX"
      },
      "source": [
        "### **EXERCISE 3.** \n",
        "\n",
        "Prove that your function fact(n) computes n!:"
      ]
    },
    {
      "cell_type": "markdown",
      "metadata": {
        "id": "ferrSHvoMLtt"
      },
      "source": [
        "\n",
        "- <b>Caso base:</b> n = 0, fact(0)=1=0! (OK)\n",
        "- <b>Passo indutivo:</b> assuma o resultado válido para n>0. Vamos para n+1.\n",
        "<br>\n",
        "fact(n+1) = (n+1)*fact(n) = (n+1)*n! = (n+1)!\n"
      ]
    },
    {
      "cell_type": "markdown",
      "metadata": {
        "id": "6RRRVjqpMVWM"
      },
      "source": [
        "### **EXERCISE 4.** \n",
        "\n",
        "How many multiplications does your fact(n) implementation use ?"
      ]
    },
    {
      "cell_type": "markdown",
      "metadata": {
        "id": "rICemo4iMnZA"
      },
      "source": [
        "Seja T(n) o número de m"
      ]
    }
  ],
  "metadata": {
    "colab": {
      "authorship_tag": "ABX9TyPQGAup0DTC/K10b+srMrPp",
      "include_colab_link": true,
      "provenance": []
    },
    "kernelspec": {
      "display_name": "Python 3",
      "name": "python3"
    },
    "language_info": {
      "codemirror_mode": {
        "name": "ipython",
        "version": 3
      },
      "file_extension": ".py",
      "mimetype": "text/x-python",
      "name": "python",
      "nbconvert_exporter": "python",
      "pygments_lexer": "ipython3",
      "version": "3.11.6"
    }
  },
  "nbformat": 4,
  "nbformat_minor": 0
}
