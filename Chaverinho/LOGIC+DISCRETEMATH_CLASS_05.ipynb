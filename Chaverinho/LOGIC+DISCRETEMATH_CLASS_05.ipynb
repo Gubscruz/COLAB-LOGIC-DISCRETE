{
  "cells": [
    {
      "cell_type": "markdown",
      "metadata": {
        "colab_type": "text",
        "id": "view-in-github"
      },
      "source": [
        "<a href=\"https://colab.research.google.com/github/lucianosilva-github/logicanddiscretemathematics/blob/main/LOGIC%2BDISCRETEMATH_CLASS_05.ipynb\" target=\"_parent\"><img src=\"https://colab.research.google.com/assets/colab-badge.svg\" alt=\"Open In Colab\"/></a>"
      ]
    },
    {
      "cell_type": "markdown",
      "metadata": {
        "id": "33EEpDW7pOaO"
      },
      "source": [
        "<div class=\"alert alert-block alert-info\">\n",
        "\n",
        "#**CLASS 05 - LINEAR TEMPORAL LOGIC (LTL) - PART III**\n",
        "**Learning Objectives:**\n",
        "*   Reviewing of LTL Operators (unary + binary operators)\n",
        "*   Kripke Structures\n",
        "*   Model Checking in PL (Propositional Logic) and LTL\n",
        "*  Implementation of Model Checking with PL and LTL\n",
        "</div>\n"
      ]
    },
    {
      "cell_type": "markdown",
      "metadata": {
        "id": "3ypLUjyP2u9Q"
      },
      "source": [
        "## **LTL OPERATORS REVIEW**\n",
        "\n",
        "A PL (Propositional Logic) formula is either:\n",
        "\n",
        "* ⊤ (**true**) or ⊥ (**false**)\n",
        "* a propositional variable\n",
        "* ¬𝜑1, 𝜑1∧𝜑2, 𝜑1∨𝜑2, or 𝜑1→𝜑2 where both 𝜑1 and 𝜑2 are PL formulas\n",
        "\n",
        "LTL (Linear Temporal Logic) formulas have the form 𝐴𝜌 where 𝜌 is a LTL path formula and a LTL path formula is either:\n",
        "\n",
        "* ⊤ or ⊥\n",
        "*  propositional variable\n",
        "*  ¬𝜑1, 𝜑1∧𝜑2, 𝜑1∨𝜑2, or 𝜑1→𝜑2, where both 𝜑1 and 𝜑2 are LTL path formulas\n",
        "* 𝐗𝜑1, 𝐅𝜑1, 𝐆𝜑1, 𝜑1𝐔𝜑2, or 𝜑1𝐑𝜑2 where both 𝜑1 and 𝜑2 are LTL path formulas.\n"
      ]
    },
    {
      "cell_type": "markdown",
      "metadata": {
        "id": "kZZ_vmTNGigT"
      },
      "source": [
        "**KRIPKE STRUCTURES**\n",
        "\n",
        "A Kripke structure is a **directed graph**, equipped with a set of initial nodes, such that **every node** is source of some edge and it **is labeled by a set of atomic propositions**. The nodes of Kripke structure are called states:\n",
        "\n",
        "A Kripke structure is a tuple (𝑆,𝑆0,𝑅,𝐿) such that:\n",
        "\n",
        "* 𝑆 is a finite set of states\n",
        "* 𝑆0⊆𝑆 is a set of initial states\n",
        "* 𝑅⊆𝑆×𝑆 is a set of transitions such that for all 𝑠∈𝑆 there exists a (𝑠,𝑠′)∈𝑅 for some 𝑠′∈𝑆\n",
        "* 𝐿:𝑆→2^{AP} maps each state into a set of atomic propositions. Sometimes, the set of initial states is omitted. In such cases, 𝑆 and 𝑆0 coincide.\n",
        "\n",
        "A computation of a Kripke structure (𝑆,𝑆0,𝑅,𝐿) is an infinite path of (𝑆,𝑅) that starts from some 𝑠∈𝑆0. In the following code we are specifying a Kripke structure using the Python module pyModelChecking."
      ]
    },
    {
      "cell_type": "code",
      "execution_count": 2,
      "metadata": {
        "id": "Qu_lkt5DKjqG"
      },
      "outputs": [
        {
          "name": "stdout",
          "output_type": "stream",
          "text": [
            "Requirement already satisfied: pyModelChecking in /opt/homebrew/lib/python3.11/site-packages (1.3.3)\n",
            "Requirement already satisfied: lark-parser in /opt/homebrew/lib/python3.11/site-packages (from pyModelChecking) (0.12.0)\n",
            "\n",
            "\u001b[1m[\u001b[0m\u001b[34;49mnotice\u001b[0m\u001b[1;39;49m]\u001b[0m\u001b[39;49m A new release of pip is available: \u001b[0m\u001b[31;49m23.2.1\u001b[0m\u001b[39;49m -> \u001b[0m\u001b[32;49m24.0\u001b[0m\n",
            "\u001b[1m[\u001b[0m\u001b[34;49mnotice\u001b[0m\u001b[1;39;49m]\u001b[0m\u001b[39;49m To update, run: \u001b[0m\u001b[32;49mpython3.11 -m pip install --upgrade pip\u001b[0m\n"
          ]
        }
      ],
      "source": [
        "!pip3 install pyModelChecking"
      ]
    },
    {
      "cell_type": "markdown",
      "metadata": {},
      "source": [
        "- S: conjunto de estados => Programa apresenta 3 estados (\"3 linhas\")\n",
        "- S0: estado inicial => onde o programa começa a funcionar\n",
        "- R: conjunto de relações => partindo do estado 0 chega no estado 1 e do estado 1 chega ao estado 2 e depois para no estado 2: (2, 2) (poderia ser um loop também)"
      ]
    },
    {
      "cell_type": "code",
      "execution_count": 3,
      "metadata": {
        "id": "vl5DEMkfMaLa"
      },
      "outputs": [],
      "source": [
        "from pyModelChecking import Kripke\n",
        "\n",
        "K=Kripke(S=[0,1,2], S0=[0], R=[(0,1),(1,2),(2,2)], L={0: set(['p']), 1:set(['p','q']), 2: set([''])})"
      ]
    },
    {
      "cell_type": "code",
      "execution_count": 4,
      "metadata": {},
      "outputs": [],
      "source": [
        "x = 3 # ESTADO 0 | p=\"x igual a 3\" ou x_igual_a_3\n",
        "y = x + 1 # ESTADO 1 q=\"y == 4\" ou q=\"y > x\" ou q=\"x < y\"\n",
        "\n",
        "K = Kripke(\n",
        "    S=[0, 1], \n",
        "    S0=[0],\n",
        "    R=[(0, 1), (1, 1)],\n",
        "    L={0: set([\"x_igual_a_3\"]), 1: set([\"x_igual_a_3\", \"x_igual_a_4\"])}\n",
        ")\n",
        "\n",
        "# set -> serve para falar que naquele estado do programa vale x coisa"
      ]
    },
    {
      "cell_type": "markdown",
      "metadata": {
        "id": "Znjg8MrRM8Df"
      },
      "source": [
        "**EXERCISE 1**\n",
        "\n",
        "Interpret the Kripke Structure K:"
      ]
    },
    {
      "cell_type": "markdown",
      "metadata": {
        "id": "ClmrJBDJNTek"
      },
      "source": [
        "Type your interpretation here\n",
        "\n",
        "\n",
        "\n"
      ]
    },
    {
      "cell_type": "markdown",
      "metadata": {
        "id": "ctTfJL7wZ5Ta"
      },
      "source": [
        "**EXERCISE 2** \n",
        "\n",
        "Implement a Kripke Structure for the following Python program:\n",
        "\n",
        "x=3\n",
        "\n",
        "y=x+1\n"
      ]
    },
    {
      "cell_type": "code",
      "execution_count": 5,
      "metadata": {
        "id": "OE6b9IYhhvPz"
      },
      "outputs": [],
      "source": [
        "#TYPE YOUR IMPLEMENTATION HERE\n",
        "\n",
        "K = Kripke(\n",
        "    S=[0, 1], \n",
        "    S0=[0],\n",
        "    R=[(0, 1), (1, 1)],\n",
        "    L={0: set([\"x_igual_a_3\"]), 1: set([\"x_igual_a_3\", \"y_igual_a_4\"])}\n",
        "    # no estado 1 poderia ser x_igual_a_5\n",
        ")"
      ]
    },
    {
      "cell_type": "markdown",
      "metadata": {
        "id": "fyy-ndu7n8KR"
      },
      "source": [
        "**EXERCISE 3** \n",
        "\n",
        "Implement a Kripke Structure for the following Python program:\n",
        "\n",
        "x=5\n",
        "\n",
        "if x>0:\n",
        "\n",
        "    y=1;\n",
        "\n",
        "else:\n",
        "\n",
        "    y=0"
      ]
    },
    {
      "cell_type": "code",
      "execution_count": 6,
      "metadata": {
        "id": "i0FTaBTwoUlo"
      },
      "outputs": [],
      "source": [
        "#TYPE YOUR IMPLEMENTATION HERE\n",
        "\n",
        "x = 5\n",
        "if x > 0:\n",
        "    y = 1\n",
        "else:\n",
        "    y = 0\n",
        "\n",
        "# estado 3 serve para poder referenciar um estado onde não tem nada => para poder parar a execução\n",
        "K = Kripke(\n",
        "    S=[0, 1, 2], \n",
        "    S0=[0],\n",
        "    R=[(0, 1), (0, 2), (1, 3), (2, 3), (3, 3)],\n",
        "    L={0: set([\"x_igual_a_5\"]), 1: set([\"x_maior_que_0\", \"y_igual_a_1\"]), 2: set([\"x_menor_igual_que_0\", \"y_igual_a_0\"])}\n",
        "    # no estado 1 poderia ser x_igual_a_5\n",
        ")"
      ]
    },
    {
      "cell_type": "markdown",
      "metadata": {
        "id": "ZzOscFM8oayy"
      },
      "source": [
        "**EXERCISE 4** \n",
        "\n",
        "Implement a Kripke Structure for the following Python program:\n",
        "\n",
        "x=5\n",
        "\n",
        "while x>0:\n",
        "\n",
        "    x=x-1"
      ]
    },
    {
      "cell_type": "code",
      "execution_count": 7,
      "metadata": {
        "id": "cbWIjUcHog8K"
      },
      "outputs": [],
      "source": [
        "#TYPE YOUR IMPLEMENTATION HERE"
      ]
    },
    {
      "cell_type": "markdown",
      "metadata": {
        "id": "ldH4O8QG_22o"
      },
      "source": [
        "**SEMANTICS**\n",
        "\n",
        "If 𝐾 is a Kripke structure, 𝑠 one of its states, and 𝜑 a propositional formula, we write 𝐾,𝑠⊨𝜑 (to be read “𝐾 and 𝑠 satisfy 𝜑 ”) meaning that 𝜑 holds at state 𝑠 in 𝐾.\n",
        "\n",
        "Let 𝐾 be the Kripke structure (𝑆,𝑆0,𝑅,𝐿); the relation ⊨ is defined recursively as follows:\n",
        "\n",
        "* 𝐾,𝑠⊨⊤ and 𝐾,𝑠⊭⊥ for any state 𝑠∈𝑆\n",
        "* if 𝑝∈𝐴𝑃, then 𝐾,𝑠⊨𝑝 ⟺ 𝑝∈𝐿(𝑠)\n",
        "* 𝐾,𝑠⊨¬𝜑 ⟺ 𝐾,𝑠⊭𝜑\n",
        "* 𝐾,𝑠⊨𝜑1∧𝜑2 ⟺ 𝐾,𝑠⊨𝜑1 and 𝐾,𝑠⊨𝜑2\n",
        "* 𝐾,𝑠⊨𝜑1∨𝜑2 ⟺ 𝐾,𝑠⊨𝜑1 or 𝐾,𝑠⊨𝜑2\n",
        "* 𝐾,𝑠⊨𝜑1→𝜑2 ⟺ 𝐾,𝑠⊭𝜑1 or 𝐾,𝑠⊨𝜑2"
      ]
    },
    {
      "cell_type": "markdown",
      "metadata": {
        "id": "70oTPRG9Bzl9"
      },
      "source": [
        "**MODEL CHECKING**\n",
        "\n",
        "Model checking is a technique to establish the set of states in Kripke structure that satisfy a given temporal formula. More formally, provided a Kripke structure 𝐾=(𝑆,𝑆0,𝑅,𝐿) and a temporal formula 𝜑, model checking aims to identify 𝑆′⊆𝑆 such that 𝐾,𝑠𝑖⊨𝜑 for all 𝑠𝑖∈𝑆′.\n"
      ]
    },
    {
      "cell_type": "code",
      "execution_count": 8,
      "metadata": {
        "id": "Z38_z_zjFq82"
      },
      "outputs": [
        {
          "data": {
            "text/plain": [
              "{0, 1, 3}"
            ]
          },
          "execution_count": 8,
          "metadata": {},
          "output_type": "execute_result"
        }
      ],
      "source": [
        "from pyModelChecking import *\n",
        "from pyModelChecking.LTL import *\n",
        "\n",
        "K=Kripke(R=[(0,0),(0,1),(1,2),(2,2),(3,3)], L={0: set(['p']), 1:set(['p','q']),3:set(['p'])})\n",
        "modelcheck(K,'A (p)')"
      ]
    },
    {
      "cell_type": "code",
      "execution_count": 9,
      "metadata": {
        "id": "GqhrShggJ8FK"
      },
      "outputs": [
        {
          "data": {
            "text/plain": [
              "{1}"
            ]
          },
          "execution_count": 9,
          "metadata": {},
          "output_type": "execute_result"
        }
      ],
      "source": [
        "modelcheck(K,'A (q)')"
      ]
    },
    {
      "cell_type": "code",
      "execution_count": 10,
      "metadata": {
        "id": "wlCupPIsKDL3"
      },
      "outputs": [
        {
          "data": {
            "text/plain": [
              "{0, 2, 3}"
            ]
          },
          "execution_count": 10,
          "metadata": {},
          "output_type": "execute_result"
        }
      ],
      "source": [
        "modelcheck(K,'A (not q)')"
      ]
    },
    {
      "cell_type": "code",
      "execution_count": 11,
      "metadata": {
        "colab": {
          "base_uri": "https://localhost:8080/"
        },
        "id": "4zhHokPpJjns",
        "outputId": "c72724e6-9d4e-425c-930a-1337d2c22a1d"
      },
      "outputs": [
        {
          "data": {
            "text/plain": [
              "{1}"
            ]
          },
          "execution_count": 11,
          "metadata": {},
          "output_type": "execute_result"
        }
      ],
      "source": [
        "modelcheck(K,'A (p & q)')"
      ]
    },
    {
      "cell_type": "markdown",
      "metadata": {
        "id": "MTap92zvKq_R"
      },
      "source": [
        "**EXERCISE 5** \n",
        "\n",
        "Implement a Kripke Structure for the following Python program and check some formulas:\n",
        "\n",
        "x=3\n",
        "\n",
        "y=x+1"
      ]
    },
    {
      "cell_type": "code",
      "execution_count": 12,
      "metadata": {
        "id": "7UAHpWUyK3cT"
      },
      "outputs": [],
      "source": [
        "#TYPE YOUR IMPLEMENTATION HERE"
      ]
    },
    {
      "cell_type": "markdown",
      "metadata": {
        "id": "mOIVhYL-K57Z"
      },
      "source": [
        "**EXERCISE 6** \n",
        "\n",
        "Implement a Kripke Structure for the following Python program and check some formulas:\n",
        "```\n",
        "0: x=5\n",
        "\n",
        "1: if x>0:\n",
        "\n",
        "2:    y=1;\n",
        "\n",
        "3: else:\n",
        "\n",
        "4:    y=0\n",
        "```"
      ]
    },
    {
      "cell_type": "code",
      "execution_count": 26,
      "metadata": {
        "id": "UxFl4O-aLHyN"
      },
      "outputs": [],
      "source": [
        "#TYPE YOUR IMPLEMENTATION HERE\n",
        "\n",
        "K = Kripke(\n",
        "    S=[0, 1, 2, 3, 4], \n",
        "    S0=[0],\n",
        "    R=[(0, 1), (1, 2), (2, 2), (0, 3), (3, 4), (4, 4)],\n",
        "    L={0: set([\"x_igual_a_5\"]), 1: set([\"x_igual_a_5\"]), 2: set([\"x_igual_a_0\", \"y_igual_a_0\"]), 3: set([\"x_igual_a_0\"]), 4: set([\"x_igual_a_0\", \"y_igual_a_0\"])}\n",
        ")"
      ]
    },
    {
      "cell_type": "markdown",
      "metadata": {
        "id": "vMsYXwcZLPMe"
      },
      "source": [
        "**EXERCISE 7** \n",
        "\n",
        "Implement a Kripke Structure for the following Python program and check some formulas:\n",
        "\n",
        "x=5\n",
        "\n",
        "while x>0:\n",
        "\n",
        "    x=x-1"
      ]
    },
    {
      "cell_type": "code",
      "execution_count": 19,
      "metadata": {
        "id": "OuaoO-6NLUqj"
      },
      "outputs": [],
      "source": [
        "#TYPE YOUR IMPLEMENTATION HERE\n",
        "\n",
        "K = Kripke(\n",
        "    S=[0, 1, 2], \n",
        "    S0=[0],\n",
        "    R=[(0, 1), (0, 2), (1, 3), (2, 3), (3, 3)],\n",
        "    L={0: set([\"x_igual_a_5\"]), 1: set([\"x_maior_que_0\", \"y_igual_a_1\"]), 2: set([\"x_menor_igual_que_0\", \"y_igual_a_0\"])}\n",
        "    # no estado 1 poderia ser x_igual_a_5\n",
        ")"
      ]
    },
    {
      "cell_type": "markdown",
      "metadata": {
        "id": "keKsSkvVT5Xn"
      },
      "source": [
        "### **HOMEWORK** "
      ]
    },
    {
      "cell_type": "markdown",
      "metadata": {
        "id": "LQSx58gPL5Tp"
      },
      "source": [
        "**EXERCISE 1** \n",
        "\n",
        "Implement a Kripke Structure for the following Python program and check some formulas:\n",
        "```\n",
        "0: V=[4,2,5,6,8]\n",
        "\n",
        "1: max=0\n",
        "\n",
        "2: for i in range(size(V)):\n",
        "\n",
        "3:    if V[i]>max:\n",
        "\n",
        "4:      max=V[i]\n",
        "\n",
        "5: \n",
        "```"
      ]
    },
    {
      "cell_type": "code",
      "execution_count": 32,
      "metadata": {
        "id": "fKP-gxxiM78c"
      },
      "outputs": [],
      "source": [
        "#TYPE YOUR IMPLEMENTATION HERE\n",
        "\n",
        "K = Kripke(\n",
        "    S=[0, 1, 2, 3, 4], \n",
        "    S0=[0],\n",
        "    R=[(0, 1), (1, 2), (2, 3), (3, 4), (4, 2), (4, 5), (2, 5), (5, 5)],\n",
        "    L={\n",
        "        0: set([\"v_arr_4,2,5,6,8\"]), \n",
        "        1: set([\"v_arr_4,2,5,6,8\", \"max_igual_0\"]), \n",
        "        2: set([\"v_arr_4,2,5,6,8\", \"max_igual_0\"]),\n",
        "        3: set([\"v_arr_4,2,5,6,8\", \"max_igual_0\"]),\n",
        "        4: set([\"v_arr_4,2,5,6,8\", \"v[i]_maior_que_max\", \"max_igual_v[i]\"]),\n",
        "    }\n",
        "    # no estado 1 poderia ser x_igual_a_5\n",
        ")"
      ]
    },
    {
      "cell_type": "markdown",
      "metadata": {
        "id": "1L7DXf1dNEar"
      },
      "source": [
        "**EXERCISE 2** \n",
        "\n",
        "Implement a Kripke Structure for the following Python program and check some formulas:\n",
        "\n",
        "V=[4,2,5,6,8]\n",
        "\n",
        "max=0\n",
        "\n",
        "for i in range(size(V)-1):\n",
        "\n",
        "    for j in range(size(V)):\n",
        "\n",
        "      if V[j]<V[i]:\n",
        "\n",
        "        aux = V[i]\n",
        "\n",
        "        V[i]=V[j]\n",
        "\n",
        "        V[j]=aux\n",
        "\n",
        "\n",
        "    "
      ]
    },
    {
      "cell_type": "code",
      "execution_count": null,
      "metadata": {
        "id": "s_9emTZHNze9"
      },
      "outputs": [],
      "source": [
        "#TYPE YOUR SOLUTION HERE"
      ]
    }
  ],
  "metadata": {
    "colab": {
      "authorship_tag": "ABX9TyPoxWGMxZApKYgEp88SpMGB",
      "include_colab_link": true,
      "provenance": []
    },
    "kernelspec": {
      "display_name": "Python 3",
      "name": "python3"
    },
    "language_info": {
      "codemirror_mode": {
        "name": "ipython",
        "version": 3
      },
      "file_extension": ".py",
      "mimetype": "text/x-python",
      "name": "python",
      "nbconvert_exporter": "python",
      "pygments_lexer": "ipython3",
      "version": "3.11.6"
    }
  },
  "nbformat": 4,
  "nbformat_minor": 0
}
