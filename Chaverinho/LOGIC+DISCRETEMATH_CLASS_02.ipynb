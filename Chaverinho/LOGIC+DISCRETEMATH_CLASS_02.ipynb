{
  "cells": [
    {
      "cell_type": "markdown",
      "metadata": {
        "colab_type": "text",
        "id": "view-in-github"
      },
      "source": [
        "<a href=\"https://colab.research.google.com/github/lucianosilva-github/logicanddiscretemathematics/blob/main/LOGIC%2BDISCRETEMATH_CLASS_02.ipynb\" target=\"_parent\"><img src=\"https://colab.research.google.com/assets/colab-badge.svg\" alt=\"Open In Colab\"/></a>"
      ]
    },
    {
      "cell_type": "markdown",
      "metadata": {
        "id": "33EEpDW7pOaO"
      },
      "source": [
        "<div class=\"alert alert-block alert-info\">\n",
        "\n",
        "#**CLASS 02 - PROPOSITIONAL LOGIC**\n",
        "**Learning Objectives:**\n",
        "*   Understanding of Propositional Logic\n",
        "*   Understanding of Propositional Calculus\n",
        "*   Implementation in Propositional Calculus\n",
        "\n",
        "</div>\n"
      ]
    },
    {
      "cell_type": "markdown",
      "metadata": {
        "id": "kZiBpTcaqciT"
      },
      "source": [
        "## **PROPOSITIONAL LOGIC**\n",
        "\n",
        "Propositional calculus is a branch of logic. It is also called propositional logic, statement logic, sentential calculus, sentential logic, or sometimes zeroth-order logic. It deals with propositions (which can be true or false) and relations between propositions, including the construction of arguments based on them. Compound propositions are formed by connecting propositions by logical connectives. Propositions that contain no logical connectives are called atomic propositions.\n",
        "\n",
        "Unlike first-order logic, propositional logic does not deal with non-logical objects, predicates about them, or quantifiers. However, all the machinery of propositional logic is included in first-order logic and higher-order logics. In this sense, propositional logic is the foundation of first-order logic and higher-order logic. "
      ]
    },
    {
      "cell_type": "markdown",
      "metadata": {
        "id": "E-x6A4P_r7hQ"
      },
      "source": [
        "Logical connectives are found in natural languages. In English for example, some examples are \"and\" (conjunction), \"or\" (disjunction), \"not\" (negation) and \"if\" (but only when used to denote material conditional).\n",
        "\n",
        "The following is an example of a very simple inference within the scope of propositional logic:\n",
        "\n",
        "    Premise 1: If it's raining then it's cloudy.\n",
        "    Premise 2: It's raining.\n",
        "    Conclusion: It's cloudy.\n",
        "\n",
        "Both premises and the conclusion are propositions. The premises are taken for granted, and with the application of modus ponens (an inference rule), the conclusion follows.\n",
        "\n",
        "As propositional logic is not concerned with the structure of propositions beyond the point where they can't be decomposed any more by logical connectives, this inference can be restated replacing those atomic statements with statement letters, which are interpreted as variables representing statements:\n",
        "\n",
        "    Premise 1: P → Q \n",
        "    Premise 2: P\n",
        "    Conclusion: Q\n",
        "\n",
        "The same can be stated succinctly in the following way:\n",
        "\n",
        "    P → Q, P\n",
        "    ________\n",
        "      Q\n",
        "\n",
        "\n",
        "When P is interpreted as \"It's raining\" and Q as \"it's cloudy\" the above symbolic expressions can be seen to correspond exactly with the original expression in natural language. Not only that, but they will also correspond with any other inference of this form, which will be valid on the same basis this inference is.\n",
        "\n",
        "Propositional logic may be studied through a formal system in which formulas of a formal language may be interpreted to represent propositions. A system of axioms and inference rules allows certain formulas to be derived. These derived formulas are called theorems and may be interpreted to be true propositions. A constructed sequence of such formulas is known as a derivation or proof and the last formula of the sequence is the theorem. The derivation may be interpreted as proof of the proposition represented by the theorem.\n",
        "\n",
        "When a formal system is used to represent formal logic, only statement letters (usually capital roman letters such as P P, Q Q and R R) are represented directly. The natural language propositions that arise when they're interpreted are outside the scope of the system, and the relation between the formal system and its interpretation is likewise outside the formal system itself.\n",
        "\n",
        "In classical truth-functional propositional logic, formulas are interpreted as having precisely one of two possible truth values, the truth value of true or the truth value of false.The principle of bivalence and the law of excluded middle are upheld. Truth-functional propositional logic defined as such and systems isomorphic to it are considered to be zeroth-order logic. However, alternative propositional logics are also possible."
      ]
    },
    {
      "cell_type": "markdown",
      "metadata": {
        "id": "ZxWI50P2pRAV"
      },
      "source": [
        "## **PROPOSITIONAL CALCULUS**\n",
        "\n",
        "In general terms, a **calculus** is a formal system that consists of a set of syntactic expressions (well-formed formulas), a distinguished subset of these expressions (axioms), plus a set of formal rules that define a specific binary relation, intended to be interpreted as logical equivalence, on the space of expressions. \n",
        "\n",
        "The following outlines a standard propositional calculus. Many different formulations exist which are all more or less equivalent, but differ in the details of:\n",
        "\n",
        "*   their language (i.e., the particular collection of primitive symbols and operator symbols)\n",
        "*   the set of axioms, or distinguished formulas, and\n",
        "*   the set of inference rules\n",
        "\n",
        "\n",
        "\n",
        "Any given proposition may be represented with a letter called a 'propositional constant', analogous to representing a number by a letter in mathematics (e.g., a = 5). All propositions require exactly one of two truth-values: true or false. For example, let P be the proposition that it is raining outside. This will be true (P) if it is raining outside, and false otherwise (¬P).\n",
        "\n",
        "\n",
        "* We then define truth-functional operators, beginning with **negation**. ¬P represents the negation of P, which can be thought of as the denial of P. In the example above, ¬P expresses that it is not raining outside, or by a more standard reading: \"It is not the case that it is raining outside.\" When P is true, ¬P is false; and when P is false, ¬P is true. As a result, ¬ ¬P always has the same truth-value as P.\n",
        "\n",
        "* **Conjunction** is a truth-functional connective which forms a proposition out of two simpler propositions, for example, P and Q. The conjunction of P and Q is written P ∧ Q, and expresses that each are true. We read P ∧ Q as \"P and Q\". For any two propositions, there are four possible assignments of truth values:\n",
        "\n",
        "        P is true and Q is true\n",
        "        P is true and Q is false\n",
        "        P is false and Q is true\n",
        "        P is false and Q is false\n",
        "\n",
        "\n",
        "* **Disjunction** resembles conjunction in that it forms a proposition out of two simpler propositions. We write it P ∨ Q, and it is read \"P or Q\". It expresses that either P or Q is true. Thus, in the cases listed above, the disjunction of P with Q is true in all cases—except case 4. Using the example above, the disjunction expresses that it is either raining outside, or there is a cold front over Kansas. (Note, this use of disjunction is supposed to resemble the use of the English word \"or\". However, it is most like the English inclusive \"or\", which can be used to express the truth of at least one of two propositions. It is not like the English exclusive \"or\", which expresses the truth of exactly one of two propositions. In other words, the exclusive \"or\" is false when both P and Q are true (case 1), and similarly is false when both P and Q are false (case 4). An example of the exclusive or is: You may have a bagel or a pastry, but not both. Often in natural language, given the appropriate context, the addendum \"but not both\" is omitted—but implied. In mathematics, however, \"or\" is always inclusive or; if exclusive or is meant it will be specified, possibly by \"xor\".)\n",
        "\n",
        "* **Conditional** also joins two simpler propositions, and we write P → Q, which is read \"if P then Q\". The proposition to the left of the arrow is called the antecedent, and the proposition to the right is called the consequent. (There is no such designation for conjunction or disjunction, since they are commutative operations.) It expresses that Q is true whenever P is true. Thus P → Q is true in every case above except case 2, because this is the only case when P is true but Q is not. Using the example, if P then Q expresses that if it is raining outside, then there is a cold-front over Kansas. The material conditional is often confused with physical causation. The material conditional, however, only relates two propositions by their truth-values—which is not the relation of cause and effect. It is contentious in the literature whether the material implication represents logical causation.\n",
        "    \n",
        "    \n",
        "* **Biconditional** joins two simpler propositions, and we write P ↔ Q, which is read \"P if and only if Q\". It expresses that P and Q have the same truth-value, and in cases 1 and 4. 'P is true if and only if Q' is true, and is false otherwise.\n",
        "\n",
        "The propositional calculus then defines an argument to be a list of propositions. A valid argument is a list of propositions, the last of which follows from—or is implied by—the rest. All other arguments are invalid. The simplest valid argument is **modus ponens**, one instance of which is the following list of propositions:\n",
        "\n",
        "    1. P → Q \n",
        "    2. P \n",
        "    ________\n",
        "       ∴ Q\n",
        "\n",
        "This is a list of three propositions, each line is a proposition, and the last follows from the rest. The first two lines are called premises, and the last line the conclusion. We say that any proposition C follows from any set of propositions ( P 1 , . . . , P n ) (P_{1},...,P_{n}), if C must be true whenever every member of the set ( P 1 , . . . , P n ) (P_{1},...,P_{n}) is true. In the argument above, for any P and Q, whenever P → Q and P are true, necessarily Q is true. Notice that, when P is true, we cannot consider cases 3 and 4 (from the truth table). When P → Q is true, we cannot consider case 2. This leaves only case 1, in which Q is also true. Thus Q is implied by the premises.\n",
        "\n",
        "This generalizes schematically. Thus, where φ and ψ may be any propositions at all,\n",
        "\n",
        "    1. φ → ψ \n",
        "    2. φ \n",
        "    _________\n",
        "        ∴ ψ "
      ]
    },
    {
      "cell_type": "markdown",
      "metadata": {
        "id": "PrRN5MXDwWKr"
      },
      "source": [
        "## **NATURAL DEDUCTION SYSTEM**\n",
        "\n",
        "Our propositional calculus,called Natural Deduction System,  has eleven inference rules. These rules allow us to derive other true formulas given a set of formulas that are assumed to be true:\n",
        "\n",
        "\n",
        "\n",
        "* **Negation introduction:** from ( p → q ) and ( p → ¬ q ) , infer ¬ p. \n",
        "* Se a partir de p é possível concluir que q é true e é possível a partir de p true é possível concluir que q é false então p é uma mentira pois ele consegue gerar dois valores diferentes\n",
        "<br>\n",
        "<img src=\"images/IMG2.jpeg\" height=\"500\">\n",
        "    \n",
        "* **Negation elimination:** from ¬ p , infer ( p → r ). \n",
        "* É possível concluir qualquer coisa r\n",
        "\n",
        "* **Double negation elimination:** from ¬ ¬ p, infer p.\n",
        "    \n",
        "* **Conjunction introduction:** from p and q, infer ( p ∧ q ) .\n",
        "    \n",
        "* **Conjunction elimination:** from ( p ∧ q ), infer p. from ( p ∧ q ) , infer q.\n",
        "    \n",
        "* **Disjunction introduction:** from p, infer ( p ∨ q ) . from q, infer ( p ∨ q ) .\n",
        "   \n",
        "* **Disjunction elimination:** from ( p ∨ q ) and ( p → r )  and ( q → r ) , infer r.\n",
        "    \n",
        "* **Biconditional introduction:** from ( p → q )  and ( q → p ) , infer ( p ↔ q ).\n",
        "    \n",
        "* **Biconditional elimination:** from ( p ↔ q ) , infer ( p → q ) . from ( p ↔ q ) , infer ( q → p ) .\n",
        "    \n",
        "* **Modus ponens (conditional elimination):** from and ( p → q ) , infer q.\n",
        "    \n",
        "* **Conditional proof (conditional introduction):** from [accepting p allows a proof of q], infer ( p → q ) .\n",
        "    \n",
        "* Todas essas regras a cima são as regras que levam a uma tautologia (sempre verdadeiro - é possível ver isso no gráfico que é gerado no ffloat) <br>\n",
        "** Não significa que o resultado sera true mas sim que sempre será possível chegar a uma conclusão (inferir algo) (significa que a inferencia está ocorre) <br>\n",
        "*** inferir := tirar conclusão:\n",
        "1. dia chuvoso -> dia nublado (modus ponens) (hipotese 1)\n",
        "2. Hoje := Dia chuvoso\n",
        "3. Então está dia nublado (mas não precisa necessariamente estar chuvoso para poder estar nublado!)\n"
      ]
    },
    {
      "cell_type": "markdown",
      "metadata": {
        "id": "3ypLUjyP2u9Q"
      },
      "source": [
        "### **EXERCISE 1** \n",
        "\n",
        "Using the module FLLOAT, verify the **Negation introduction**: from ( p → q ) and ( p → ¬ q ) , infer ¬ p. "
      ]
    },
    {
      "cell_type": "code",
      "execution_count": null,
      "metadata": {},
      "outputs": [],
      "source": []
    },
    {
      "cell_type": "code",
      "execution_count": 2,
      "metadata": {
        "colab": {
          "base_uri": "https://localhost:8080/"
        },
        "id": "Qu_lkt5DKjqG",
        "outputId": "14bfcbfc-955c-43b0-ff20-55d58c880169"
      },
      "outputs": [
        {
          "name": "stdout",
          "output_type": "stream",
          "text": [
            "Requirement already satisfied: flloat in /opt/homebrew/lib/python3.11/site-packages (0.3.0)\n",
            "Requirement already satisfied: lark-parser in /opt/homebrew/lib/python3.11/site-packages (from flloat) (0.12.0)\n",
            "Requirement already satisfied: pythomata>=0.3.2 in /opt/homebrew/lib/python3.11/site-packages (from flloat) (0.3.2)\n",
            "Requirement already satisfied: sympy in /opt/homebrew/lib/python3.11/site-packages (from flloat) (1.12)\n",
            "Requirement already satisfied: graphviz in /opt/homebrew/lib/python3.11/site-packages (from pythomata>=0.3.2->flloat) (0.20.1)\n",
            "Requirement already satisfied: mpmath>=0.19 in /opt/homebrew/lib/python3.11/site-packages (from sympy->flloat) (1.3.0)\n",
            "\n",
            "\u001b[1m[\u001b[0m\u001b[34;49mnotice\u001b[0m\u001b[1;39;49m]\u001b[0m\u001b[39;49m A new release of pip is available: \u001b[0m\u001b[31;49m23.2.1\u001b[0m\u001b[39;49m -> \u001b[0m\u001b[32;49m24.0\u001b[0m\n",
            "\u001b[1m[\u001b[0m\u001b[34;49mnotice\u001b[0m\u001b[1;39;49m]\u001b[0m\u001b[39;49m To update, run: \u001b[0m\u001b[32;49mpython3.11 -m pip install --upgrade pip\u001b[0m\n"
          ]
        }
      ],
      "source": [
        "!pip3 install flloat"
      ]
    },
    {
      "cell_type": "code",
      "execution_count": 3,
      "metadata": {
        "colab": {
          "base_uri": "https://localhost:8080/",
          "height": 305
        },
        "id": "TfhTh1dvL3jC",
        "outputId": "3a9dca5d-fec8-4d99-ef7e-7c17ca6ab802"
      },
      "outputs": [
        {
          "data": {
            "image/svg+xml": [
              "<?xml version=\"1.0\" encoding=\"UTF-8\" standalone=\"no\"?>\n",
              "<!DOCTYPE svg PUBLIC \"-//W3C//DTD SVG 1.1//EN\"\n",
              " \"http://www.w3.org/Graphics/SVG/1.1/DTD/svg11.dtd\">\n",
              "<!-- Generated by graphviz version 10.0.1 (20240210.2158)\n",
              " -->\n",
              "<!-- Pages: 1 -->\n",
              "<svg width=\"101pt\" height=\"214pt\"\n",
              " viewBox=\"0.00 0.00 100.50 213.50\" xmlns=\"http://www.w3.org/2000/svg\" xmlns:xlink=\"http://www.w3.org/1999/xlink\">\n",
              "<g id=\"graph0\" class=\"graph\" transform=\"scale(1 1) rotate(0) translate(4 209.5)\">\n",
              "<polygon fill=\"white\" stroke=\"none\" points=\"-4,4 -4,-209.5 96.5,-209.5 96.5,4 -4,4\"/>\n",
              "<!-- fake -->\n",
              "<g id=\"node1\" class=\"node\">\n",
              "<title>fake</title>\n",
              "</g>\n",
              "<!-- 0 -->\n",
              "<g id=\"node2\" class=\"node\">\n",
              "<title>0</title>\n",
              "<ellipse fill=\"none\" stroke=\"black\" cx=\"27\" cy=\"-114.5\" rx=\"27\" ry=\"18\"/>\n",
              "<text text-anchor=\"middle\" x=\"27\" y=\"-109.45\" font-family=\"Times,serif\" font-size=\"14.00\">0</text>\n",
              "</g>\n",
              "<!-- fake&#45;&gt;0 -->\n",
              "<g id=\"edge1\" class=\"edge\">\n",
              "<title>fake&#45;&gt;0</title>\n",
              "<path fill=\"none\" stroke=\"black\" stroke-width=\"2\" d=\"M27,-169.31C27,-161.73 27,-152.6 27,-144.04\"/>\n",
              "<polygon fill=\"black\" stroke=\"black\" stroke-width=\"2\" points=\"30.5,-145.56 27,-135.56 23.5,-145.56 30.5,-145.56\"/>\n",
              "</g>\n",
              "<!-- 1 -->\n",
              "<g id=\"node3\" class=\"node\">\n",
              "<title>1</title>\n",
              "<ellipse fill=\"none\" stroke=\"black\" cx=\"27\" cy=\"-22\" rx=\"18\" ry=\"18\"/>\n",
              "<ellipse fill=\"none\" stroke=\"black\" cx=\"27\" cy=\"-22\" rx=\"22\" ry=\"22\"/>\n",
              "<text text-anchor=\"middle\" x=\"27\" y=\"-16.95\" font-family=\"Times,serif\" font-size=\"14.00\">1</text>\n",
              "</g>\n",
              "<!-- 0&#45;&gt;1 -->\n",
              "<g id=\"edge3\" class=\"edge\">\n",
              "<title>0&#45;&gt;1</title>\n",
              "<path fill=\"none\" stroke=\"black\" d=\"M27,-96.05C27,-84.61 27,-69.3 27,-55.65\"/>\n",
              "<polygon fill=\"black\" stroke=\"black\" points=\"30.5,-55.73 27,-45.73 23.5,-55.73 30.5,-55.73\"/>\n",
              "<text text-anchor=\"middle\" x=\"39.75\" y=\"-65.2\" font-family=\"Times,serif\" font-size=\"14.00\">True</text>\n",
              "</g>\n",
              "<!-- 1&#45;&gt;1 -->\n",
              "<g id=\"edge2\" class=\"edge\">\n",
              "<title>1&#45;&gt;1</title>\n",
              "<path fill=\"none\" stroke=\"black\" d=\"M47.58,-30.78C57.84,-31.99 67,-29.07 67,-22 67,-17.8 63.77,-15.07 59,-13.79\"/>\n",
              "<polygon fill=\"black\" stroke=\"black\" points=\"59.25,-10.3 49.09,-13.3 58.91,-17.29 59.25,-10.3\"/>\n",
              "<text text-anchor=\"middle\" x=\"79.75\" y=\"-16.95\" font-family=\"Times,serif\" font-size=\"14.00\">True</text>\n",
              "</g>\n",
              "</g>\n",
              "</svg>\n"
            ],
            "text/plain": [
              "<graphviz.graphs.Digraph at 0x12153f110>"
            ]
          },
          "execution_count": 3,
          "metadata": {},
          "output_type": "execute_result"
        }
      ],
      "source": [
        "from flloat.parser.ltlf import LTLfParser\n",
        "\n",
        "# parse the formula\n",
        "parser = LTLfParser()\n",
        "formula = \"F (((p->q) & (p->!q))->!p)\"\n",
        "parsed_formula = parser(formula)\n",
        "dfa = parsed_formula.to_automaton()\n",
        "graph = dfa.to_graphviz()\n",
        "graph"
      ]
    },
    {
      "cell_type": "code",
      "execution_count": 13,
      "metadata": {
        "id": "K86-bbKyPY6W"
      },
      "outputs": [],
      "source": [
        "from pickle import TRUE\n",
        "test = [{\"p\": False, \"q\": False},\n",
        "        {\"p\": False, \"q\": True},\n",
        "        {\"p\": True, \"q\": False},\n",
        "        {\"p\": True, \"q\": True}]\n",
        "assert dfa.accepts(test)"
      ]
    },
    {
      "cell_type": "markdown",
      "metadata": {
        "id": "eoEHzUAwPu5F"
      },
      "source": [
        "### **EXERCISE 2.** \n",
        "\n",
        "Using the module FLLOAT, verify the **Negation elimination:** from ¬ p , infer ( p → r ). "
      ]
    },
    {
      "cell_type": "code",
      "execution_count": 5,
      "metadata": {
        "id": "HOQgAqsOP7ak"
      },
      "outputs": [
        {
          "data": {
            "image/svg+xml": [
              "<?xml version=\"1.0\" encoding=\"UTF-8\" standalone=\"no\"?>\n",
              "<!DOCTYPE svg PUBLIC \"-//W3C//DTD SVG 1.1//EN\"\n",
              " \"http://www.w3.org/Graphics/SVG/1.1/DTD/svg11.dtd\">\n",
              "<!-- Generated by graphviz version 10.0.1 (20240210.2158)\n",
              " -->\n",
              "<!-- Pages: 1 -->\n",
              "<svg width=\"101pt\" height=\"214pt\"\n",
              " viewBox=\"0.00 0.00 100.50 213.50\" xmlns=\"http://www.w3.org/2000/svg\" xmlns:xlink=\"http://www.w3.org/1999/xlink\">\n",
              "<g id=\"graph0\" class=\"graph\" transform=\"scale(1 1) rotate(0) translate(4 209.5)\">\n",
              "<polygon fill=\"white\" stroke=\"none\" points=\"-4,4 -4,-209.5 96.5,-209.5 96.5,4 -4,4\"/>\n",
              "<!-- fake -->\n",
              "<g id=\"node1\" class=\"node\">\n",
              "<title>fake</title>\n",
              "</g>\n",
              "<!-- 0 -->\n",
              "<g id=\"node2\" class=\"node\">\n",
              "<title>0</title>\n",
              "<ellipse fill=\"none\" stroke=\"black\" cx=\"27\" cy=\"-114.5\" rx=\"27\" ry=\"18\"/>\n",
              "<text text-anchor=\"middle\" x=\"27\" y=\"-109.45\" font-family=\"Times,serif\" font-size=\"14.00\">0</text>\n",
              "</g>\n",
              "<!-- fake&#45;&gt;0 -->\n",
              "<g id=\"edge1\" class=\"edge\">\n",
              "<title>fake&#45;&gt;0</title>\n",
              "<path fill=\"none\" stroke=\"black\" stroke-width=\"2\" d=\"M27,-169.31C27,-161.73 27,-152.6 27,-144.04\"/>\n",
              "<polygon fill=\"black\" stroke=\"black\" stroke-width=\"2\" points=\"30.5,-145.56 27,-135.56 23.5,-145.56 30.5,-145.56\"/>\n",
              "</g>\n",
              "<!-- 1 -->\n",
              "<g id=\"node3\" class=\"node\">\n",
              "<title>1</title>\n",
              "<ellipse fill=\"none\" stroke=\"black\" cx=\"27\" cy=\"-22\" rx=\"18\" ry=\"18\"/>\n",
              "<ellipse fill=\"none\" stroke=\"black\" cx=\"27\" cy=\"-22\" rx=\"22\" ry=\"22\"/>\n",
              "<text text-anchor=\"middle\" x=\"27\" y=\"-16.95\" font-family=\"Times,serif\" font-size=\"14.00\">1</text>\n",
              "</g>\n",
              "<!-- 0&#45;&gt;1 -->\n",
              "<g id=\"edge3\" class=\"edge\">\n",
              "<title>0&#45;&gt;1</title>\n",
              "<path fill=\"none\" stroke=\"black\" d=\"M27,-96.05C27,-84.61 27,-69.3 27,-55.65\"/>\n",
              "<polygon fill=\"black\" stroke=\"black\" points=\"30.5,-55.73 27,-45.73 23.5,-55.73 30.5,-55.73\"/>\n",
              "<text text-anchor=\"middle\" x=\"39.75\" y=\"-65.2\" font-family=\"Times,serif\" font-size=\"14.00\">True</text>\n",
              "</g>\n",
              "<!-- 1&#45;&gt;1 -->\n",
              "<g id=\"edge2\" class=\"edge\">\n",
              "<title>1&#45;&gt;1</title>\n",
              "<path fill=\"none\" stroke=\"black\" d=\"M47.58,-30.78C57.84,-31.99 67,-29.07 67,-22 67,-17.8 63.77,-15.07 59,-13.79\"/>\n",
              "<polygon fill=\"black\" stroke=\"black\" points=\"59.25,-10.3 49.09,-13.3 58.91,-17.29 59.25,-10.3\"/>\n",
              "<text text-anchor=\"middle\" x=\"79.75\" y=\"-16.95\" font-family=\"Times,serif\" font-size=\"14.00\">True</text>\n",
              "</g>\n",
              "</g>\n",
              "</svg>\n"
            ],
            "text/plain": [
              "<graphviz.graphs.Digraph at 0x12139da90>"
            ]
          },
          "execution_count": 5,
          "metadata": {},
          "output_type": "execute_result"
        }
      ],
      "source": [
        "#TYPE YOUR CODE HERE\n",
        "from flloat.parser.ltlf import LTLfParser\n",
        "\n",
        "# parse the formula\n",
        "parser = LTLfParser()\n",
        "formula = \"F ((!p) -> (p -> r))\"\n",
        "parsed_formula = parser(formula)\n",
        "dfa = parsed_formula.to_automaton()\n",
        "graph = dfa.to_graphviz()\n",
        "graph"
      ]
    },
    {
      "cell_type": "code",
      "execution_count": 6,
      "metadata": {},
      "outputs": [],
      "source": [
        "from pickle import TRUE\n",
        "test = [{\"p\": False, \"r\": False},\n",
        "        {\"p\": False, \"r\": True},\n",
        "        {\"p\": True, \"r\": False},\n",
        "        {\"p\": True, \"r\": True}] # : False -> (True -> ja que é true implica que r vai ser True) \"Não necessariamente p precisa ser true para r poder ser true, pode ocorrer o seguinte False (p) -> True (r)\"\n",
        "\n",
        "# \n",
        "assert dfa.accepts(test)"
      ]
    },
    {
      "cell_type": "markdown",
      "metadata": {
        "id": "Fj8GHvG0u9jW"
      },
      "source": [
        "### **EXERCISE 3.** \n",
        "\n",
        "Using the module FLLOAT, verify the **Double negation elimination:** from ¬ ¬ p, infer p."
      ]
    },
    {
      "cell_type": "code",
      "execution_count": 1,
      "metadata": {
        "id": "jbhgFTwru8zp"
      },
      "outputs": [
        {
          "data": {
            "image/svg+xml": [
              "<?xml version=\"1.0\" encoding=\"UTF-8\" standalone=\"no\"?>\n",
              "<!DOCTYPE svg PUBLIC \"-//W3C//DTD SVG 1.1//EN\"\n",
              " \"http://www.w3.org/Graphics/SVG/1.1/DTD/svg11.dtd\">\n",
              "<!-- Generated by graphviz version 10.0.1 (20240210.2158)\n",
              " -->\n",
              "<!-- Pages: 1 -->\n",
              "<svg width=\"101pt\" height=\"214pt\"\n",
              " viewBox=\"0.00 0.00 100.50 213.50\" xmlns=\"http://www.w3.org/2000/svg\" xmlns:xlink=\"http://www.w3.org/1999/xlink\">\n",
              "<g id=\"graph0\" class=\"graph\" transform=\"scale(1 1) rotate(0) translate(4 209.5)\">\n",
              "<polygon fill=\"white\" stroke=\"none\" points=\"-4,4 -4,-209.5 96.5,-209.5 96.5,4 -4,4\"/>\n",
              "<!-- fake -->\n",
              "<g id=\"node1\" class=\"node\">\n",
              "<title>fake</title>\n",
              "</g>\n",
              "<!-- 0 -->\n",
              "<g id=\"node2\" class=\"node\">\n",
              "<title>0</title>\n",
              "<ellipse fill=\"none\" stroke=\"black\" cx=\"27\" cy=\"-114.5\" rx=\"27\" ry=\"18\"/>\n",
              "<text text-anchor=\"middle\" x=\"27\" y=\"-109.45\" font-family=\"Times,serif\" font-size=\"14.00\">0</text>\n",
              "</g>\n",
              "<!-- fake&#45;&gt;0 -->\n",
              "<g id=\"edge1\" class=\"edge\">\n",
              "<title>fake&#45;&gt;0</title>\n",
              "<path fill=\"none\" stroke=\"black\" stroke-width=\"2\" d=\"M27,-169.31C27,-161.73 27,-152.6 27,-144.04\"/>\n",
              "<polygon fill=\"black\" stroke=\"black\" stroke-width=\"2\" points=\"30.5,-145.56 27,-135.56 23.5,-145.56 30.5,-145.56\"/>\n",
              "</g>\n",
              "<!-- 1 -->\n",
              "<g id=\"node3\" class=\"node\">\n",
              "<title>1</title>\n",
              "<ellipse fill=\"none\" stroke=\"black\" cx=\"27\" cy=\"-22\" rx=\"18\" ry=\"18\"/>\n",
              "<ellipse fill=\"none\" stroke=\"black\" cx=\"27\" cy=\"-22\" rx=\"22\" ry=\"22\"/>\n",
              "<text text-anchor=\"middle\" x=\"27\" y=\"-16.95\" font-family=\"Times,serif\" font-size=\"14.00\">1</text>\n",
              "</g>\n",
              "<!-- 0&#45;&gt;1 -->\n",
              "<g id=\"edge3\" class=\"edge\">\n",
              "<title>0&#45;&gt;1</title>\n",
              "<path fill=\"none\" stroke=\"black\" d=\"M27,-96.05C27,-84.61 27,-69.3 27,-55.65\"/>\n",
              "<polygon fill=\"black\" stroke=\"black\" points=\"30.5,-55.73 27,-45.73 23.5,-55.73 30.5,-55.73\"/>\n",
              "<text text-anchor=\"middle\" x=\"39.75\" y=\"-65.2\" font-family=\"Times,serif\" font-size=\"14.00\">True</text>\n",
              "</g>\n",
              "<!-- 1&#45;&gt;1 -->\n",
              "<g id=\"edge2\" class=\"edge\">\n",
              "<title>1&#45;&gt;1</title>\n",
              "<path fill=\"none\" stroke=\"black\" d=\"M47.58,-30.78C57.84,-31.99 67,-29.07 67,-22 67,-17.8 63.77,-15.07 59,-13.79\"/>\n",
              "<polygon fill=\"black\" stroke=\"black\" points=\"59.25,-10.3 49.09,-13.3 58.91,-17.29 59.25,-10.3\"/>\n",
              "<text text-anchor=\"middle\" x=\"79.75\" y=\"-16.95\" font-family=\"Times,serif\" font-size=\"14.00\">True</text>\n",
              "</g>\n",
              "</g>\n",
              "</svg>\n"
            ],
            "text/plain": [
              "<graphviz.graphs.Digraph at 0x11251ad90>"
            ]
          },
          "execution_count": 1,
          "metadata": {},
          "output_type": "execute_result"
        }
      ],
      "source": [
        "from flloat.parser.ltlf import LTLfParser\n",
        "\n",
        "# parse the formula\n",
        "parser = LTLfParser()\n",
        "formula = \"F (!!p -> p)\"\n",
        "parsed_formula = parser(formula)\n",
        "dfa = parsed_formula.to_automaton()\n",
        "graph = dfa.to_graphviz()\n",
        "graph"
      ]
    },
    {
      "cell_type": "markdown",
      "metadata": {
        "id": "EzfMlchAvwUu"
      },
      "source": [
        "### **EXERCISE 4.** \n",
        "\n",
        "Using the module FLLOAT, verify the **Conjunction introduction:** from p and q, infer ( p ∧ q )."
      ]
    },
    {
      "cell_type": "code",
      "execution_count": 2,
      "metadata": {
        "id": "iQsBuzPKv_CR"
      },
      "outputs": [
        {
          "data": {
            "image/svg+xml": [
              "<?xml version=\"1.0\" encoding=\"UTF-8\" standalone=\"no\"?>\n",
              "<!DOCTYPE svg PUBLIC \"-//W3C//DTD SVG 1.1//EN\"\n",
              " \"http://www.w3.org/Graphics/SVG/1.1/DTD/svg11.dtd\">\n",
              "<!-- Generated by graphviz version 10.0.1 (20240210.2158)\n",
              " -->\n",
              "<!-- Pages: 1 -->\n",
              "<svg width=\"101pt\" height=\"214pt\"\n",
              " viewBox=\"0.00 0.00 100.50 213.50\" xmlns=\"http://www.w3.org/2000/svg\" xmlns:xlink=\"http://www.w3.org/1999/xlink\">\n",
              "<g id=\"graph0\" class=\"graph\" transform=\"scale(1 1) rotate(0) translate(4 209.5)\">\n",
              "<polygon fill=\"white\" stroke=\"none\" points=\"-4,4 -4,-209.5 96.5,-209.5 96.5,4 -4,4\"/>\n",
              "<!-- fake -->\n",
              "<g id=\"node1\" class=\"node\">\n",
              "<title>fake</title>\n",
              "</g>\n",
              "<!-- 0 -->\n",
              "<g id=\"node2\" class=\"node\">\n",
              "<title>0</title>\n",
              "<ellipse fill=\"none\" stroke=\"black\" cx=\"27\" cy=\"-114.5\" rx=\"27\" ry=\"18\"/>\n",
              "<text text-anchor=\"middle\" x=\"27\" y=\"-109.45\" font-family=\"Times,serif\" font-size=\"14.00\">0</text>\n",
              "</g>\n",
              "<!-- fake&#45;&gt;0 -->\n",
              "<g id=\"edge1\" class=\"edge\">\n",
              "<title>fake&#45;&gt;0</title>\n",
              "<path fill=\"none\" stroke=\"black\" stroke-width=\"2\" d=\"M27,-169.31C27,-161.73 27,-152.6 27,-144.04\"/>\n",
              "<polygon fill=\"black\" stroke=\"black\" stroke-width=\"2\" points=\"30.5,-145.56 27,-135.56 23.5,-145.56 30.5,-145.56\"/>\n",
              "</g>\n",
              "<!-- 1 -->\n",
              "<g id=\"node3\" class=\"node\">\n",
              "<title>1</title>\n",
              "<ellipse fill=\"none\" stroke=\"black\" cx=\"27\" cy=\"-22\" rx=\"18\" ry=\"18\"/>\n",
              "<ellipse fill=\"none\" stroke=\"black\" cx=\"27\" cy=\"-22\" rx=\"22\" ry=\"22\"/>\n",
              "<text text-anchor=\"middle\" x=\"27\" y=\"-16.95\" font-family=\"Times,serif\" font-size=\"14.00\">1</text>\n",
              "</g>\n",
              "<!-- 0&#45;&gt;1 -->\n",
              "<g id=\"edge3\" class=\"edge\">\n",
              "<title>0&#45;&gt;1</title>\n",
              "<path fill=\"none\" stroke=\"black\" d=\"M27,-96.05C27,-84.61 27,-69.3 27,-55.65\"/>\n",
              "<polygon fill=\"black\" stroke=\"black\" points=\"30.5,-55.73 27,-45.73 23.5,-55.73 30.5,-55.73\"/>\n",
              "<text text-anchor=\"middle\" x=\"39.75\" y=\"-65.2\" font-family=\"Times,serif\" font-size=\"14.00\">True</text>\n",
              "</g>\n",
              "<!-- 1&#45;&gt;1 -->\n",
              "<g id=\"edge2\" class=\"edge\">\n",
              "<title>1&#45;&gt;1</title>\n",
              "<path fill=\"none\" stroke=\"black\" d=\"M47.58,-30.78C57.84,-31.99 67,-29.07 67,-22 67,-17.8 63.77,-15.07 59,-13.79\"/>\n",
              "<polygon fill=\"black\" stroke=\"black\" points=\"59.25,-10.3 49.09,-13.3 58.91,-17.29 59.25,-10.3\"/>\n",
              "<text text-anchor=\"middle\" x=\"79.75\" y=\"-16.95\" font-family=\"Times,serif\" font-size=\"14.00\">True</text>\n",
              "</g>\n",
              "</g>\n",
              "</svg>\n"
            ],
            "text/plain": [
              "<graphviz.graphs.Digraph at 0x11251b150>"
            ]
          },
          "execution_count": 2,
          "metadata": {},
          "output_type": "execute_result"
        }
      ],
      "source": [
        "#TYPE YOUR CODE HERE\n",
        "\n",
        "# parse the formula\n",
        "parser = LTLfParser()\n",
        "formula = \"F (p & q -> p & q)\"\n",
        "parsed_formula = parser(formula)\n",
        "dfa = parsed_formula.to_automaton()\n",
        "graph = dfa.to_graphviz()\n",
        "graph"
      ]
    },
    {
      "cell_type": "markdown",
      "metadata": {
        "id": "keKsSkvVT5Xn"
      },
      "source": [
        "### **HOMEWORK** \n",
        "\n",
        "Using the module FLLOAT, verify all the remaining rules:\n",
        "\n",
        "* **Conjunction elimination:** from ( p ∧ q ), infer p. from ( p ∧ q ) , infer q.\n",
        "    \n",
        "* **Disjunction introduction:** from p, infer ( p ∨ q ) . from q, infer ( p ∨ q ) .\n",
        "   \n",
        "* **Disjunction elimination:** from ( p ∨ q ) and ( p → r )  and ( q → r ) , infer r.\n",
        "    \n",
        "* **Biconditional introduction:** from ( p → q )  and ( q → p ) , infer ( p ↔ q ).\n",
        "    \n",
        "* **Biconditional elimination:** from ( p ↔ q ) , infer ( p → q ) . from ( p ↔ q ) , infer ( q → p ) .\n",
        "    \n",
        "* **Modus ponens (conditional elimination):** from p and ( p → q ) , infer q.\n",
        "    \n",
        "* **Conditional proof (conditional introduction):** from [accepting p allows a proof of q], infer ( p → q ) ."
      ]
    },
    {
      "cell_type": "code",
      "execution_count": 3,
      "metadata": {
        "id": "BsBI3bZ9Usfn"
      },
      "outputs": [
        {
          "data": {
            "image/svg+xml": [
              "<?xml version=\"1.0\" encoding=\"UTF-8\" standalone=\"no\"?>\n",
              "<!DOCTYPE svg PUBLIC \"-//W3C//DTD SVG 1.1//EN\"\n",
              " \"http://www.w3.org/Graphics/SVG/1.1/DTD/svg11.dtd\">\n",
              "<!-- Generated by graphviz version 10.0.1 (20240210.2158)\n",
              " -->\n",
              "<!-- Pages: 1 -->\n",
              "<svg width=\"101pt\" height=\"214pt\"\n",
              " viewBox=\"0.00 0.00 100.50 213.50\" xmlns=\"http://www.w3.org/2000/svg\" xmlns:xlink=\"http://www.w3.org/1999/xlink\">\n",
              "<g id=\"graph0\" class=\"graph\" transform=\"scale(1 1) rotate(0) translate(4 209.5)\">\n",
              "<polygon fill=\"white\" stroke=\"none\" points=\"-4,4 -4,-209.5 96.5,-209.5 96.5,4 -4,4\"/>\n",
              "<!-- fake -->\n",
              "<g id=\"node1\" class=\"node\">\n",
              "<title>fake</title>\n",
              "</g>\n",
              "<!-- 0 -->\n",
              "<g id=\"node2\" class=\"node\">\n",
              "<title>0</title>\n",
              "<ellipse fill=\"none\" stroke=\"black\" cx=\"27\" cy=\"-114.5\" rx=\"27\" ry=\"18\"/>\n",
              "<text text-anchor=\"middle\" x=\"27\" y=\"-109.45\" font-family=\"Times,serif\" font-size=\"14.00\">0</text>\n",
              "</g>\n",
              "<!-- fake&#45;&gt;0 -->\n",
              "<g id=\"edge1\" class=\"edge\">\n",
              "<title>fake&#45;&gt;0</title>\n",
              "<path fill=\"none\" stroke=\"black\" stroke-width=\"2\" d=\"M27,-169.31C27,-161.73 27,-152.6 27,-144.04\"/>\n",
              "<polygon fill=\"black\" stroke=\"black\" stroke-width=\"2\" points=\"30.5,-145.56 27,-135.56 23.5,-145.56 30.5,-145.56\"/>\n",
              "</g>\n",
              "<!-- 1 -->\n",
              "<g id=\"node3\" class=\"node\">\n",
              "<title>1</title>\n",
              "<ellipse fill=\"none\" stroke=\"black\" cx=\"27\" cy=\"-22\" rx=\"18\" ry=\"18\"/>\n",
              "<ellipse fill=\"none\" stroke=\"black\" cx=\"27\" cy=\"-22\" rx=\"22\" ry=\"22\"/>\n",
              "<text text-anchor=\"middle\" x=\"27\" y=\"-16.95\" font-family=\"Times,serif\" font-size=\"14.00\">1</text>\n",
              "</g>\n",
              "<!-- 0&#45;&gt;1 -->\n",
              "<g id=\"edge3\" class=\"edge\">\n",
              "<title>0&#45;&gt;1</title>\n",
              "<path fill=\"none\" stroke=\"black\" d=\"M27,-96.05C27,-84.61 27,-69.3 27,-55.65\"/>\n",
              "<polygon fill=\"black\" stroke=\"black\" points=\"30.5,-55.73 27,-45.73 23.5,-55.73 30.5,-55.73\"/>\n",
              "<text text-anchor=\"middle\" x=\"39.75\" y=\"-65.2\" font-family=\"Times,serif\" font-size=\"14.00\">True</text>\n",
              "</g>\n",
              "<!-- 1&#45;&gt;1 -->\n",
              "<g id=\"edge2\" class=\"edge\">\n",
              "<title>1&#45;&gt;1</title>\n",
              "<path fill=\"none\" stroke=\"black\" d=\"M47.58,-30.78C57.84,-31.99 67,-29.07 67,-22 67,-17.8 63.77,-15.07 59,-13.79\"/>\n",
              "<polygon fill=\"black\" stroke=\"black\" points=\"59.25,-10.3 49.09,-13.3 58.91,-17.29 59.25,-10.3\"/>\n",
              "<text text-anchor=\"middle\" x=\"79.75\" y=\"-16.95\" font-family=\"Times,serif\" font-size=\"14.00\">True</text>\n",
              "</g>\n",
              "</g>\n",
              "</svg>\n"
            ],
            "text/plain": [
              "<graphviz.graphs.Digraph at 0x112559650>"
            ]
          },
          "execution_count": 3,
          "metadata": {},
          "output_type": "execute_result"
        }
      ],
      "source": [
        "#TYPE YOUR IMPLEMENTATION FOR CONJUCTION ELIMINATION HERE\n",
        "\n",
        "parser = LTLfParser()\n",
        "formula = \"F (p & q -> p)\"\n",
        "parsed_formula = parser(formula)\n",
        "dfa = parsed_formula.to_automaton()\n",
        "graph = dfa.to_graphviz()\n",
        "graph"
      ]
    },
    {
      "cell_type": "code",
      "execution_count": 4,
      "metadata": {},
      "outputs": [
        {
          "data": {
            "image/svg+xml": [
              "<?xml version=\"1.0\" encoding=\"UTF-8\" standalone=\"no\"?>\n",
              "<!DOCTYPE svg PUBLIC \"-//W3C//DTD SVG 1.1//EN\"\n",
              " \"http://www.w3.org/Graphics/SVG/1.1/DTD/svg11.dtd\">\n",
              "<!-- Generated by graphviz version 10.0.1 (20240210.2158)\n",
              " -->\n",
              "<!-- Pages: 1 -->\n",
              "<svg width=\"101pt\" height=\"214pt\"\n",
              " viewBox=\"0.00 0.00 100.50 213.50\" xmlns=\"http://www.w3.org/2000/svg\" xmlns:xlink=\"http://www.w3.org/1999/xlink\">\n",
              "<g id=\"graph0\" class=\"graph\" transform=\"scale(1 1) rotate(0) translate(4 209.5)\">\n",
              "<polygon fill=\"white\" stroke=\"none\" points=\"-4,4 -4,-209.5 96.5,-209.5 96.5,4 -4,4\"/>\n",
              "<!-- fake -->\n",
              "<g id=\"node1\" class=\"node\">\n",
              "<title>fake</title>\n",
              "</g>\n",
              "<!-- 0 -->\n",
              "<g id=\"node2\" class=\"node\">\n",
              "<title>0</title>\n",
              "<ellipse fill=\"none\" stroke=\"black\" cx=\"27\" cy=\"-114.5\" rx=\"27\" ry=\"18\"/>\n",
              "<text text-anchor=\"middle\" x=\"27\" y=\"-109.45\" font-family=\"Times,serif\" font-size=\"14.00\">0</text>\n",
              "</g>\n",
              "<!-- fake&#45;&gt;0 -->\n",
              "<g id=\"edge1\" class=\"edge\">\n",
              "<title>fake&#45;&gt;0</title>\n",
              "<path fill=\"none\" stroke=\"black\" stroke-width=\"2\" d=\"M27,-169.31C27,-161.73 27,-152.6 27,-144.04\"/>\n",
              "<polygon fill=\"black\" stroke=\"black\" stroke-width=\"2\" points=\"30.5,-145.56 27,-135.56 23.5,-145.56 30.5,-145.56\"/>\n",
              "</g>\n",
              "<!-- 1 -->\n",
              "<g id=\"node3\" class=\"node\">\n",
              "<title>1</title>\n",
              "<ellipse fill=\"none\" stroke=\"black\" cx=\"27\" cy=\"-22\" rx=\"18\" ry=\"18\"/>\n",
              "<ellipse fill=\"none\" stroke=\"black\" cx=\"27\" cy=\"-22\" rx=\"22\" ry=\"22\"/>\n",
              "<text text-anchor=\"middle\" x=\"27\" y=\"-16.95\" font-family=\"Times,serif\" font-size=\"14.00\">1</text>\n",
              "</g>\n",
              "<!-- 0&#45;&gt;1 -->\n",
              "<g id=\"edge3\" class=\"edge\">\n",
              "<title>0&#45;&gt;1</title>\n",
              "<path fill=\"none\" stroke=\"black\" d=\"M27,-96.05C27,-84.61 27,-69.3 27,-55.65\"/>\n",
              "<polygon fill=\"black\" stroke=\"black\" points=\"30.5,-55.73 27,-45.73 23.5,-55.73 30.5,-55.73\"/>\n",
              "<text text-anchor=\"middle\" x=\"39.75\" y=\"-65.2\" font-family=\"Times,serif\" font-size=\"14.00\">True</text>\n",
              "</g>\n",
              "<!-- 1&#45;&gt;1 -->\n",
              "<g id=\"edge2\" class=\"edge\">\n",
              "<title>1&#45;&gt;1</title>\n",
              "<path fill=\"none\" stroke=\"black\" d=\"M47.58,-30.78C57.84,-31.99 67,-29.07 67,-22 67,-17.8 63.77,-15.07 59,-13.79\"/>\n",
              "<polygon fill=\"black\" stroke=\"black\" points=\"59.25,-10.3 49.09,-13.3 58.91,-17.29 59.25,-10.3\"/>\n",
              "<text text-anchor=\"middle\" x=\"79.75\" y=\"-16.95\" font-family=\"Times,serif\" font-size=\"14.00\">True</text>\n",
              "</g>\n",
              "</g>\n",
              "</svg>\n"
            ],
            "text/plain": [
              "<graphviz.graphs.Digraph at 0x1109b0c50>"
            ]
          },
          "execution_count": 4,
          "metadata": {},
          "output_type": "execute_result"
        }
      ],
      "source": [
        "#TYPE YOUR IMPLEMENTATION FOR CONJUCTION ELIMINATION HERE\n",
        "\n",
        "parser = LTLfParser()\n",
        "formula = \"F (p & q -> q)\"\n",
        "parsed_formula = parser(formula)\n",
        "dfa = parsed_formula.to_automaton()\n",
        "graph = dfa.to_graphviz()\n",
        "graph"
      ]
    },
    {
      "cell_type": "code",
      "execution_count": 10,
      "metadata": {
        "id": "mO6HgduF-Xxf"
      },
      "outputs": [],
      "source": [
        "#TYPE YOUR IMPLEMENTATION FOR DISJUNCTION INTRODUCTION HERE\n",
        "\n",
        "\n",
        "parser = LTLfParser()\n",
        "formula = \"F (p -> (p | q))\"\n",
        "parsed_formula = parser(formula)\n",
        "dfa = parsed_formula.to_automaton()\n",
        "graph = dfa.to_graphviz()\n",
        "graph"
      ]
    },
    {
      "cell_type": "code",
      "execution_count": null,
      "metadata": {},
      "outputs": [],
      "source": [
        "#TYPE YOUR IMPLEMENTATION FOR DISJUNCTION INTRODUCTION HERE\n",
        "\n",
        "parser = LTLfParser()\n",
        "formula = \"F (q -> (p | q))\"\n",
        "parsed_formula = parser(formula)\n",
        "dfa = parsed_formula.to_automaton()\n",
        "graph = dfa.to_graphviz()\n",
        "graph"
      ]
    },
    {
      "cell_type": "code",
      "execution_count": 5,
      "metadata": {
        "id": "fwTFzw-m-dAY"
      },
      "outputs": [
        {
          "data": {
            "image/svg+xml": [
              "<?xml version=\"1.0\" encoding=\"UTF-8\" standalone=\"no\"?>\n",
              "<!DOCTYPE svg PUBLIC \"-//W3C//DTD SVG 1.1//EN\"\n",
              " \"http://www.w3.org/Graphics/SVG/1.1/DTD/svg11.dtd\">\n",
              "<!-- Generated by graphviz version 10.0.1 (20240210.2158)\n",
              " -->\n",
              "<!-- Pages: 1 -->\n",
              "<svg width=\"101pt\" height=\"214pt\"\n",
              " viewBox=\"0.00 0.00 100.50 213.50\" xmlns=\"http://www.w3.org/2000/svg\" xmlns:xlink=\"http://www.w3.org/1999/xlink\">\n",
              "<g id=\"graph0\" class=\"graph\" transform=\"scale(1 1) rotate(0) translate(4 209.5)\">\n",
              "<polygon fill=\"white\" stroke=\"none\" points=\"-4,4 -4,-209.5 96.5,-209.5 96.5,4 -4,4\"/>\n",
              "<!-- fake -->\n",
              "<g id=\"node1\" class=\"node\">\n",
              "<title>fake</title>\n",
              "</g>\n",
              "<!-- 0 -->\n",
              "<g id=\"node2\" class=\"node\">\n",
              "<title>0</title>\n",
              "<ellipse fill=\"none\" stroke=\"black\" cx=\"27\" cy=\"-114.5\" rx=\"27\" ry=\"18\"/>\n",
              "<text text-anchor=\"middle\" x=\"27\" y=\"-109.45\" font-family=\"Times,serif\" font-size=\"14.00\">0</text>\n",
              "</g>\n",
              "<!-- fake&#45;&gt;0 -->\n",
              "<g id=\"edge1\" class=\"edge\">\n",
              "<title>fake&#45;&gt;0</title>\n",
              "<path fill=\"none\" stroke=\"black\" stroke-width=\"2\" d=\"M27,-169.31C27,-161.73 27,-152.6 27,-144.04\"/>\n",
              "<polygon fill=\"black\" stroke=\"black\" stroke-width=\"2\" points=\"30.5,-145.56 27,-135.56 23.5,-145.56 30.5,-145.56\"/>\n",
              "</g>\n",
              "<!-- 1 -->\n",
              "<g id=\"node3\" class=\"node\">\n",
              "<title>1</title>\n",
              "<ellipse fill=\"none\" stroke=\"black\" cx=\"27\" cy=\"-22\" rx=\"18\" ry=\"18\"/>\n",
              "<ellipse fill=\"none\" stroke=\"black\" cx=\"27\" cy=\"-22\" rx=\"22\" ry=\"22\"/>\n",
              "<text text-anchor=\"middle\" x=\"27\" y=\"-16.95\" font-family=\"Times,serif\" font-size=\"14.00\">1</text>\n",
              "</g>\n",
              "<!-- 0&#45;&gt;1 -->\n",
              "<g id=\"edge3\" class=\"edge\">\n",
              "<title>0&#45;&gt;1</title>\n",
              "<path fill=\"none\" stroke=\"black\" d=\"M27,-96.05C27,-84.61 27,-69.3 27,-55.65\"/>\n",
              "<polygon fill=\"black\" stroke=\"black\" points=\"30.5,-55.73 27,-45.73 23.5,-55.73 30.5,-55.73\"/>\n",
              "<text text-anchor=\"middle\" x=\"39.75\" y=\"-65.2\" font-family=\"Times,serif\" font-size=\"14.00\">True</text>\n",
              "</g>\n",
              "<!-- 1&#45;&gt;1 -->\n",
              "<g id=\"edge2\" class=\"edge\">\n",
              "<title>1&#45;&gt;1</title>\n",
              "<path fill=\"none\" stroke=\"black\" d=\"M47.58,-30.78C57.84,-31.99 67,-29.07 67,-22 67,-17.8 63.77,-15.07 59,-13.79\"/>\n",
              "<polygon fill=\"black\" stroke=\"black\" points=\"59.25,-10.3 49.09,-13.3 58.91,-17.29 59.25,-10.3\"/>\n",
              "<text text-anchor=\"middle\" x=\"79.75\" y=\"-16.95\" font-family=\"Times,serif\" font-size=\"14.00\">True</text>\n",
              "</g>\n",
              "</g>\n",
              "</svg>\n"
            ],
            "text/plain": [
              "<graphviz.graphs.Digraph at 0x1115c2b10>"
            ]
          },
          "execution_count": 5,
          "metadata": {},
          "output_type": "execute_result"
        }
      ],
      "source": [
        "#TYPE YOUR IMPLEMENTATION FOR DISJUCTION ELIMINATION HERE\n",
        "# * **Disjunction elimination:** from ( p ∨ q ) and ( p → r )  and ( q → r ) , infer r.\n",
        "\n",
        "parser = LTLfParser()\n",
        "formula = \"F ((p | q) & (p -> r) & (q-> r) -> r)\"\n",
        "parsed_formula = parser(formula)\n",
        "dfa = parsed_formula.to_automaton()\n",
        "graph = dfa.to_graphviz()\n",
        "graph"
      ]
    },
    {
      "cell_type": "code",
      "execution_count": 6,
      "metadata": {
        "id": "xQ9Lw0za-jni"
      },
      "outputs": [
        {
          "data": {
            "image/svg+xml": [
              "<?xml version=\"1.0\" encoding=\"UTF-8\" standalone=\"no\"?>\n",
              "<!DOCTYPE svg PUBLIC \"-//W3C//DTD SVG 1.1//EN\"\n",
              " \"http://www.w3.org/Graphics/SVG/1.1/DTD/svg11.dtd\">\n",
              "<!-- Generated by graphviz version 10.0.1 (20240210.2158)\n",
              " -->\n",
              "<!-- Pages: 1 -->\n",
              "<svg width=\"101pt\" height=\"214pt\"\n",
              " viewBox=\"0.00 0.00 100.50 213.50\" xmlns=\"http://www.w3.org/2000/svg\" xmlns:xlink=\"http://www.w3.org/1999/xlink\">\n",
              "<g id=\"graph0\" class=\"graph\" transform=\"scale(1 1) rotate(0) translate(4 209.5)\">\n",
              "<polygon fill=\"white\" stroke=\"none\" points=\"-4,4 -4,-209.5 96.5,-209.5 96.5,4 -4,4\"/>\n",
              "<!-- fake -->\n",
              "<g id=\"node1\" class=\"node\">\n",
              "<title>fake</title>\n",
              "</g>\n",
              "<!-- 0 -->\n",
              "<g id=\"node2\" class=\"node\">\n",
              "<title>0</title>\n",
              "<ellipse fill=\"none\" stroke=\"black\" cx=\"27\" cy=\"-114.5\" rx=\"27\" ry=\"18\"/>\n",
              "<text text-anchor=\"middle\" x=\"27\" y=\"-109.45\" font-family=\"Times,serif\" font-size=\"14.00\">0</text>\n",
              "</g>\n",
              "<!-- fake&#45;&gt;0 -->\n",
              "<g id=\"edge1\" class=\"edge\">\n",
              "<title>fake&#45;&gt;0</title>\n",
              "<path fill=\"none\" stroke=\"black\" stroke-width=\"2\" d=\"M27,-169.31C27,-161.73 27,-152.6 27,-144.04\"/>\n",
              "<polygon fill=\"black\" stroke=\"black\" stroke-width=\"2\" points=\"30.5,-145.56 27,-135.56 23.5,-145.56 30.5,-145.56\"/>\n",
              "</g>\n",
              "<!-- 1 -->\n",
              "<g id=\"node3\" class=\"node\">\n",
              "<title>1</title>\n",
              "<ellipse fill=\"none\" stroke=\"black\" cx=\"27\" cy=\"-22\" rx=\"18\" ry=\"18\"/>\n",
              "<ellipse fill=\"none\" stroke=\"black\" cx=\"27\" cy=\"-22\" rx=\"22\" ry=\"22\"/>\n",
              "<text text-anchor=\"middle\" x=\"27\" y=\"-16.95\" font-family=\"Times,serif\" font-size=\"14.00\">1</text>\n",
              "</g>\n",
              "<!-- 0&#45;&gt;1 -->\n",
              "<g id=\"edge3\" class=\"edge\">\n",
              "<title>0&#45;&gt;1</title>\n",
              "<path fill=\"none\" stroke=\"black\" d=\"M27,-96.05C27,-84.61 27,-69.3 27,-55.65\"/>\n",
              "<polygon fill=\"black\" stroke=\"black\" points=\"30.5,-55.73 27,-45.73 23.5,-55.73 30.5,-55.73\"/>\n",
              "<text text-anchor=\"middle\" x=\"39.75\" y=\"-65.2\" font-family=\"Times,serif\" font-size=\"14.00\">True</text>\n",
              "</g>\n",
              "<!-- 1&#45;&gt;1 -->\n",
              "<g id=\"edge2\" class=\"edge\">\n",
              "<title>1&#45;&gt;1</title>\n",
              "<path fill=\"none\" stroke=\"black\" d=\"M47.58,-30.78C57.84,-31.99 67,-29.07 67,-22 67,-17.8 63.77,-15.07 59,-13.79\"/>\n",
              "<polygon fill=\"black\" stroke=\"black\" points=\"59.25,-10.3 49.09,-13.3 58.91,-17.29 59.25,-10.3\"/>\n",
              "<text text-anchor=\"middle\" x=\"79.75\" y=\"-16.95\" font-family=\"Times,serif\" font-size=\"14.00\">True</text>\n",
              "</g>\n",
              "</g>\n",
              "</svg>\n"
            ],
            "text/plain": [
              "<graphviz.graphs.Digraph at 0x1115ebbd0>"
            ]
          },
          "execution_count": 6,
          "metadata": {},
          "output_type": "execute_result"
        }
      ],
      "source": [
        "#TYPE YOUR IMPLEMENTATION FOR BICONDITIONAL INTRODUCTION HERE\n",
        "# * **Biconditional introduction:** from ( p → q )  and ( q → p ) , infer ( p ↔ q ).\n",
        "\n",
        "parser = LTLfParser()\n",
        "formula = \"F ((p -> q) & (q -> p) -> (p <-> q))\"\n",
        "parsed_formula = parser(formula)\n",
        "dfa = parsed_formula.to_automaton()\n",
        "graph = dfa.to_graphviz()\n",
        "graph"
      ]
    },
    {
      "cell_type": "code",
      "execution_count": 10,
      "metadata": {
        "id": "JjWqMIGO-n33"
      },
      "outputs": [
        {
          "data": {
            "image/svg+xml": [
              "<?xml version=\"1.0\" encoding=\"UTF-8\" standalone=\"no\"?>\n",
              "<!DOCTYPE svg PUBLIC \"-//W3C//DTD SVG 1.1//EN\"\n",
              " \"http://www.w3.org/Graphics/SVG/1.1/DTD/svg11.dtd\">\n",
              "<!-- Generated by graphviz version 10.0.1 (20240210.2158)\n",
              " -->\n",
              "<!-- Pages: 1 -->\n",
              "<svg width=\"101pt\" height=\"214pt\"\n",
              " viewBox=\"0.00 0.00 100.50 213.50\" xmlns=\"http://www.w3.org/2000/svg\" xmlns:xlink=\"http://www.w3.org/1999/xlink\">\n",
              "<g id=\"graph0\" class=\"graph\" transform=\"scale(1 1) rotate(0) translate(4 209.5)\">\n",
              "<polygon fill=\"white\" stroke=\"none\" points=\"-4,4 -4,-209.5 96.5,-209.5 96.5,4 -4,4\"/>\n",
              "<!-- fake -->\n",
              "<g id=\"node1\" class=\"node\">\n",
              "<title>fake</title>\n",
              "</g>\n",
              "<!-- 0 -->\n",
              "<g id=\"node2\" class=\"node\">\n",
              "<title>0</title>\n",
              "<ellipse fill=\"none\" stroke=\"black\" cx=\"27\" cy=\"-114.5\" rx=\"27\" ry=\"18\"/>\n",
              "<text text-anchor=\"middle\" x=\"27\" y=\"-109.45\" font-family=\"Times,serif\" font-size=\"14.00\">0</text>\n",
              "</g>\n",
              "<!-- fake&#45;&gt;0 -->\n",
              "<g id=\"edge1\" class=\"edge\">\n",
              "<title>fake&#45;&gt;0</title>\n",
              "<path fill=\"none\" stroke=\"black\" stroke-width=\"2\" d=\"M27,-169.31C27,-161.73 27,-152.6 27,-144.04\"/>\n",
              "<polygon fill=\"black\" stroke=\"black\" stroke-width=\"2\" points=\"30.5,-145.56 27,-135.56 23.5,-145.56 30.5,-145.56\"/>\n",
              "</g>\n",
              "<!-- 1 -->\n",
              "<g id=\"node3\" class=\"node\">\n",
              "<title>1</title>\n",
              "<ellipse fill=\"none\" stroke=\"black\" cx=\"27\" cy=\"-22\" rx=\"18\" ry=\"18\"/>\n",
              "<ellipse fill=\"none\" stroke=\"black\" cx=\"27\" cy=\"-22\" rx=\"22\" ry=\"22\"/>\n",
              "<text text-anchor=\"middle\" x=\"27\" y=\"-16.95\" font-family=\"Times,serif\" font-size=\"14.00\">1</text>\n",
              "</g>\n",
              "<!-- 0&#45;&gt;1 -->\n",
              "<g id=\"edge3\" class=\"edge\">\n",
              "<title>0&#45;&gt;1</title>\n",
              "<path fill=\"none\" stroke=\"black\" d=\"M27,-96.05C27,-84.61 27,-69.3 27,-55.65\"/>\n",
              "<polygon fill=\"black\" stroke=\"black\" points=\"30.5,-55.73 27,-45.73 23.5,-55.73 30.5,-55.73\"/>\n",
              "<text text-anchor=\"middle\" x=\"39.75\" y=\"-65.2\" font-family=\"Times,serif\" font-size=\"14.00\">True</text>\n",
              "</g>\n",
              "<!-- 1&#45;&gt;1 -->\n",
              "<g id=\"edge2\" class=\"edge\">\n",
              "<title>1&#45;&gt;1</title>\n",
              "<path fill=\"none\" stroke=\"black\" d=\"M47.58,-30.78C57.84,-31.99 67,-29.07 67,-22 67,-17.8 63.77,-15.07 59,-13.79\"/>\n",
              "<polygon fill=\"black\" stroke=\"black\" points=\"59.25,-10.3 49.09,-13.3 58.91,-17.29 59.25,-10.3\"/>\n",
              "<text text-anchor=\"middle\" x=\"79.75\" y=\"-16.95\" font-family=\"Times,serif\" font-size=\"14.00\">True</text>\n",
              "</g>\n",
              "</g>\n",
              "</svg>\n"
            ],
            "text/plain": [
              "<graphviz.graphs.Digraph at 0x112625210>"
            ]
          },
          "execution_count": 10,
          "metadata": {},
          "output_type": "execute_result"
        }
      ],
      "source": [
        "#TYPE YOUR IMPLEMENTATION FOR BICONDITIONAL ELIMINATION HERE\n",
        "# * **Biconditional elimination:** from ( p ↔ q ) , infer ( p → q ) . from ( p ↔ q ) , infer ( q → p ) .\n",
        "\n",
        "parser = LTLfParser()\n",
        "formula = \"F (( p <-> q ) -> ( p -> q ))\"\n",
        "parsed_formula = parser(formula)\n",
        "dfa = parsed_formula.to_automaton()\n",
        "graph = dfa.to_graphviz()\n",
        "graph\n",
        "\n",
        "\n",
        "parser = LTLfParser()\n",
        "formula = \"F (( p <-> q ) -> ( q -> p ))\"\n",
        "parsed_formula = parser(formula)\n",
        "dfa = parsed_formula.to_automaton()\n",
        "graph = dfa.to_graphviz()\n",
        "graph"
      ]
    },
    {
      "cell_type": "code",
      "execution_count": 14,
      "metadata": {
        "id": "4-NWRkeU-rnw"
      },
      "outputs": [],
      "source": [
        "#TYPE YOUR IMPLEMENTATION FOR MODUS PONENS HERE\n",
        "# * **Modus ponens (conditional elimination):** from p and ( p → q ) , infer q.\n",
        "\n",
        "parser = LTLfParser()\n",
        "formula = \"F ((p) & (p -> q) -> q)\"\n",
        "parsed_formula = parser(formula)\n",
        "dfa = parsed_formula.to_automaton()\n",
        "graph = dfa.to_graphviz()\n",
        "graph"
      ]
    },
    {
      "cell_type": "code",
      "execution_count": 15,
      "metadata": {
        "id": "Jl4cTKON-vjw"
      },
      "outputs": [],
      "source": [
        "#TYPE YOUR IMPLEMENTATION FOR CONDITIONAL HERE"
      ]
    }
  ],
  "metadata": {
    "colab": {
      "authorship_tag": "ABX9TyNMXix522ioZMJV/9NuaHYa",
      "include_colab_link": true,
      "provenance": []
    },
    "kernelspec": {
      "display_name": "Python 3",
      "name": "python3"
    },
    "language_info": {
      "codemirror_mode": {
        "name": "ipython",
        "version": 3
      },
      "file_extension": ".py",
      "mimetype": "text/x-python",
      "name": "python",
      "nbconvert_exporter": "python",
      "pygments_lexer": "ipython3",
      "version": "3.11.6"
    }
  },
  "nbformat": 4,
  "nbformat_minor": 0
}
